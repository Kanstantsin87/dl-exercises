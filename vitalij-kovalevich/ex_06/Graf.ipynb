{
 "cells": [
  {
   "cell_type": "code",
   "execution_count": 24,
   "metadata": {
    "collapsed": true
   },
   "outputs": [],
   "source": [
    "from sklearn.ensemble import RandomForestClassifier\n",
    "from sklearn.ensemble import GradientBoostingClassifier\n",
    "from sklearn.ensemble import VotingClassifier\n",
    "from sklearn.metrics import accuracy_score\n",
    "from sklearn.model_selection import train_test_split\n",
    "import matplotlib.pyplot as plt\n",
    "import pandas as pd\n",
    "\n",
    "from sklearn.datasets import make_classification"
   ]
  },
  {
   "cell_type": "code",
   "execution_count": 28,
   "metadata": {},
   "outputs": [
    {
     "name": "stdout",
     "output_type": "stream",
     "text": [
      "(1257, 64) (1257,)\n",
      "(540, 64) (540,)\n"
     ]
    }
   ],
   "source": [
    "from sklearn import datasets, svm, metrics\n",
    "digits = datasets.load_digits()\n",
    "X,y = digits.data, digits.target \n",
    "(X_train, X_test, \n",
    " y_train, y_test) = train_test_split(X,y, test_size=0.3, \n",
    "                                     random_state=43)\n",
    "\n",
    "print(X_train.shape, y_train.shape)\n",
    "print(X_test.shape, y_test.shape)\n"
   ]
  },
  {
   "cell_type": "code",
   "execution_count": 81,
   "metadata": {},
   "outputs": [
    {
     "name": "stdout",
     "output_type": "stream",
     "text": [
      "[[  0.   0.  10. ...,   8.   0.   0.]\n",
      " [  0.   0.   3. ...,   0.   0.   0.]\n",
      " [  0.   0.  10. ...,  10.   0.   0.]\n",
      " ..., \n",
      " [  0.   0.   0. ...,  12.   0.   0.]\n",
      " [  0.   0.   5. ...,   8.   0.   0.]\n",
      " [  0.   0.  11. ...,  16.  16.  10.]] (1257,)\n",
      "      Iter       Train Loss   Remaining Time \n",
      "         1        1103.9261            1.84s\n",
      "         2         750.7707            1.53s\n",
      "         3         534.4500            1.49s\n",
      "         4         383.5600            1.56s\n",
      "         5         288.2775            1.45s\n",
      "         6         211.8673            1.53s\n",
      "         7         160.9088            1.55s\n",
      "         8         125.2081            1.51s\n",
      "         9          98.2648            1.49s\n",
      "        10          77.1438            1.47s\n",
      "        20           9.7061            1.08s\n",
      "        30           1.6137            0.68s\n",
      "        40           0.5301            0.31s\n",
      "        50           0.4203            0.00s\n"
     ]
    },
    {
     "data": {
      "text/plain": [
       "GradientBoostingClassifier(criterion='friedman_mse', init=None,\n",
       "              learning_rate=0.3, loss='deviance', max_depth=3,\n",
       "              max_features=None, max_leaf_nodes=None,\n",
       "              min_impurity_decrease=0.0, min_impurity_split=None,\n",
       "              min_samples_leaf=1, min_samples_split=2,\n",
       "              min_weight_fraction_leaf=0.0, n_estimators=50,\n",
       "              presort='auto', random_state=241, subsample=1.0,\n",
       "              verbose=True, warm_start=False)"
      ]
     },
     "execution_count": 81,
     "metadata": {},
     "output_type": "execute_result"
    }
   ],
   "source": [
    "clf_gd = GradientBoostingClassifier(n_estimators=50, learning_rate=0.3, verbose=True, random_state=241)\n",
    "print(X_train, y_train.shape)\n",
    "clf_gd.fit(X_train, y_train)"
   ]
  },
  {
   "cell_type": "code",
   "execution_count": null,
   "metadata": {},
   "outputs": [],
   "source": []
  },
  {
   "cell_type": "code",
   "execution_count": 82,
   "metadata": {},
   "outputs": [
    {
     "name": "stdout",
     "output_type": "stream",
     "text": [
      "Эффективность составила: 96.3\n"
     ]
    },
    {
     "data": {
      "image/png": "[encoded data removed]",
      "text/plain": [
       "<matplotlib.figure.Figure at 0x27173ec9358>"
      ]
     },
     "metadata": {},
     "output_type": "display_data"
    }
   ],
   "source": [
    "from sklearn.metrics import log_loss\n",
    "import numpy as np\n",
    "%matplotlib inline\n",
    "staged  = clf_gd.staged_decision_function(X_train)\n",
    "staged_test  = clf_gd.staged_decision_function(X_test)\n",
    "log_loss_train = []\n",
    "log_loss_test = []\n",
    "for y_pred in staged:\n",
    "    log_loss_train += [log_loss(y_train, 1.0/(1.0 + np.exp(-y_pred)))]\n",
    "for y_pred in staged_test:\n",
    "    log_loss_test += [log_loss(y_test, 1.0/(1.0 + np.exp(-y_pred)))]\n",
    "    \n",
    "plt.figure()\n",
    "plt.plot(log_loss_test, 'r', linewidth=2)\n",
    "plt.plot(log_loss_train, 'g', linewidth=2)\n",
    "plt.legend(['train', 'test'])\n",
    "y_pred = clf_gd.predict(X_test)\n",
    "accuracy = accuracy_score(y_test, y_pred)\n",
    "print('Эффективность составила: {:.4}'.format(accuracy*100))"
   ]
  },
  {
   "cell_type": "code",
   "execution_count": null,
   "metadata": {
    "collapsed": true
   },
   "outputs": [],
   "source": []
  },
  {
   "cell_type": "code",
   "execution_count": null,
   "metadata": {
    "collapsed": true
   },
   "outputs": [],
   "source": []
  }
 ],
 "metadata": {
  "kernelspec": {
   "display_name": "Python 3",
   "language": "python",
   "name": "python3"
  },
  "language_info": {
   "codemirror_mode": {
    "name": "ipython",
    "version": 3
   },
   "file_extension": ".py",
   "mimetype": "text/x-python",
   "name": "python",
   "nbconvert_exporter": "python",
   "pygments_lexer": "ipython3",
   "version": "3.6.2"
  }
 },
 "nbformat": 4,
 "nbformat_minor": 2
}
